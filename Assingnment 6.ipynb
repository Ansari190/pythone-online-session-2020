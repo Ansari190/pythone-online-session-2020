{
 "cells": [
  {
   "cell_type": "code",
   "execution_count": 1,
   "metadata": {},
   "outputs": [],
   "source": [
    "from  math import *\n",
    "import sys"
   ]
  },
  {
   "cell_type": "code",
   "execution_count": 2,
   "metadata": {},
   "outputs": [
    {
     "name": "stdout",
     "output_type": "stream",
     "text": [
      "enter your first side value :  2\n",
      "enter your second side value :  2\n",
      "enter your third side value :  2\n",
      "1.7320508075688772\n"
     ]
    }
   ],
   "source": [
    "a= int(input(\"enter your first side value :  \" ))\n",
    "\n",
    "b= int(input(\"enter your second side value :  \" ))\n",
    "\n",
    "c= int(input(\"enter your third side value :  \" ))\n",
    "\n",
    "class triangle():\n",
    "    def __init__(self ,a,b,c):\n",
    "        self.a=a\n",
    "        self.b=b\n",
    "        self.c=c\n",
    "    def area(self):\n",
    "        s=(a+b+c)/2\n",
    "        area=sqrt(s*(s-a)*(s-b)*(s-c))\n",
    "        return area\n",
    "tri=triangle(a,b,c)\n",
    "print(tri.area())\n"
   ]
  },
  {
   "cell_type": "code",
   "execution_count": 3,
   "metadata": {},
   "outputs": [
    {
     "name": "stdout",
     "output_type": "stream",
     "text": [
      "enter your num 2\n",
      "enter your word my name is javed ansari\n"
     ]
    },
    {
     "data": {
      "text/plain": [
       "['name', 'javed', 'ansari']"
      ]
     },
     "execution_count": 3,
     "metadata": {},
     "output_type": "execute_result"
    }
   ],
   "source": [
    "words=[]\n",
    "n= int(input(\"enter your num \"))\n",
    "word = input (\"enter your word \")\n",
    "def filter_long_word(n,word):\n",
    "    for i in word.split(\" \") :\n",
    "        if len(i)>n:\n",
    "            words.append(i)\n",
    "    return(words)\n",
    "filter_long_word(n,word)"
   ]
  },
  {
   "cell_type": "code",
   "execution_count": 4,
   "metadata": {},
   "outputs": [
    {
     "name": "stdout",
     "output_type": "stream",
     "text": [
      "enter your word a\n",
      "['a']\n"
     ]
    },
    {
     "data": {
      "text/plain": [
       "[1]"
      ]
     },
     "execution_count": 4,
     "metadata": {},
     "output_type": "execute_result"
    }
   ],
   "source": [
    "wordlist=input(\"enter your word \")\n",
    "wordlist1 = wordlist.split(\" \")\n",
    "print (wordlist1)\n",
    "def wordlength_(wordlist1):\n",
    "    return list (map (lambda x:len(x),wordlist1))\n",
    "wordlength_(wordlist1)"
   ]
  },
  {
   "cell_type": "code",
   "execution_count": 5,
   "metadata": {},
   "outputs": [
    {
     "name": "stdout",
     "output_type": "stream",
     "text": [
      "enter your charectera\n"
     ]
    },
    {
     "data": {
      "text/plain": [
       "True"
      ]
     },
     "execution_count": 5,
     "metadata": {},
     "output_type": "execute_result"
    }
   ],
   "source": [
    "char=input(\"enter your charecter\")\n",
    "def vowel_(char):\n",
    "    for x in char:\n",
    "        if x==\"a\" or x==\"e\" or x==\"i\" or x==\"o\" or x==\"u\" :\n",
    "            \n",
    "                return True\n",
    "        else:\n",
    "            return False\n",
    "vowel_(char)    \n",
    "    "
   ]
  },
  {
   "cell_type": "code",
   "execution_count": null,
   "metadata": {},
   "outputs": [],
   "source": []
  }
 ],
 "metadata": {
  "kernelspec": {
   "display_name": "Python 3",
   "language": "python",
   "name": "python3"
  },
  "language_info": {
   "codemirror_mode": {
    "name": "ipython",
    "version": 3
   },
   "file_extension": ".py",
   "mimetype": "text/x-python",
   "name": "python",
   "nbconvert_exporter": "python",
   "pygments_lexer": "ipython3",
   "version": "3.7.6"
  }
 },
 "nbformat": 4,
 "nbformat_minor": 4
}
