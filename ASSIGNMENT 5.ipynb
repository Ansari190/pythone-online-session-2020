{
 "cells": [
  {
   "cell_type": "markdown",
   "metadata": {},
   "source": [
    "Assignment-5\n"
   ]
  },
  {
   "cell_type": "code",
   "execution_count": 1,
   "metadata": {},
   "outputs": [
    {
     "name": "stdout",
     "output_type": "stream",
     "text": [
      "enter your num :-->  5\n",
      "ZeroDivisionError \n"
     ]
    }
   ],
   "source": [
    "try:\n",
    "    a=int(input('enter your num :-->  '))\n",
    "    b=0\n",
    "    c=a/b\n",
    "except Exception :\n",
    "    print('ZeroDivisionError ')\n",
    "    "
   ]
  },
  {
   "cell_type": "code",
   "execution_count": 2,
   "metadata": {},
   "outputs": [
    {
     "data": {
      "text/plain": [
       "['Americans playBaseball',\n",
       " 'Americans playCricket',\n",
       " 'Americans watchBaseball',\n",
       " 'Americans watchCricket',\n",
       " 'IndiansplayBaseball',\n",
       " 'IndiansplayCricket',\n",
       " 'IndianswatchBaseball',\n",
       " 'IndianswatchCricket']"
      ]
     },
     "execution_count": 2,
     "metadata": {},
     "output_type": "execute_result"
    }
   ],
   "source": [
    "subjects=[\"Americans \",\"Indians\"] \n",
    "verbs=[\"play\",\"watch\"]\n",
    "objects=[\"Baseball\",\"Cricket\"]\n",
    "c=[s+v+o for s in subjects  for v in verbs for o in objects]\n",
    "c"
   ]
  },
  {
   "cell_type": "code",
   "execution_count": null,
   "metadata": {},
   "outputs": [],
   "source": []
  }
 ],
 "metadata": {
  "kernelspec": {
   "display_name": "Python 3",
   "language": "python",
   "name": "python3"
  },
  "language_info": {
   "codemirror_mode": {
    "name": "ipython",
    "version": 3
   },
   "file_extension": ".py",
   "mimetype": "text/x-python",
   "name": "python",
   "nbconvert_exporter": "python",
   "pygments_lexer": "ipython3",
   "version": "3.7.6"
  }
 },
 "nbformat": 4,
 "nbformat_minor": 4
}
